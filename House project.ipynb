{
 "cells": [
  {
   "cell_type": "markdown",
   "metadata": {},
   "source": [
    "# Intro\n",
    "Importing diffrent libraries and my data. I also ran my train test split for my base model"
   ]
  },
  {
   "cell_type": "code",
   "execution_count": 35,
   "metadata": {},
   "outputs": [],
   "source": [
    "# interpreting data\n",
    "import pandas as pd\n",
    "import numpy as np\n",
    "\n",
    "#preprocessing and running the model\n",
    "import statsmodels.api as sm\n",
    "from statsmodels.formula.api import ols\n",
    "from sklearn.preprocessing import StandardScaler\n",
    "import scipy.stats as stats\n",
    "import statsmodels.formula.api as smf\n",
    "from sklearn.preprocessing import MinMaxScaler\n",
    "from sklearn.model_selection import train_test_split, KFold\n",
    "from sklearn.preprocessing import StandardScaler\n",
    "from sklearn.preprocessing import Binarizer, LabelBinarizer\n",
    "from sklearn.linear_model import LinearRegression\n",
    "lr = LinearRegression()\n",
    "#visuals\n",
    "import matplotlib.pyplot as plt\n",
    "import seaborn as sns\n"
   ]
  },
  {
   "cell_type": "code",
   "execution_count": 36,
   "metadata": {},
   "outputs": [],
   "source": [
    "Data=pd.read_csv('kc_house_data.csv')"
   ]
  },
  {
   "cell_type": "code",
   "execution_count": 37,
   "metadata": {},
   "outputs": [
    {
     "data": {
      "text/plain": [
       "9410"
      ]
     },
     "execution_count": 37,
     "metadata": {},
     "output_type": "execute_result"
    }
   ],
   "source": [
    "Data['sqft_above'].max()"
   ]
  },
  {
   "cell_type": "markdown",
   "metadata": {},
   "source": [
    "Creating my baseline model using train test split"
   ]
  },
  {
   "cell_type": "code",
   "execution_count": 38,
   "metadata": {},
   "outputs": [],
   "source": [
    "basey = Data['price']\n",
    "baseX = Data.drop('price', axis=1)"
   ]
  },
  {
   "cell_type": "code",
   "execution_count": 39,
   "metadata": {},
   "outputs": [],
   "source": [
    "baseX_train, baseX_test, basey_train, basey_test = train_test_split(baseX, basey, test_size=.2, random_state=42)"
   ]
  },
  {
   "cell_type": "code",
   "execution_count": 40,
   "metadata": {},
   "outputs": [],
   "source": [
    "baseX_train=baseX_train.drop(['id','date','sqft_basement', 'lat','long'], axis=1,)\n",
    "baseX_test=baseX_test.drop(['id','date','sqft_basement', 'lat','long'], axis=1,)"
   ]
  },
  {
   "cell_type": "code",
   "execution_count": 41,
   "metadata": {},
   "outputs": [],
   "source": [
    "baseX_train['waterfront']=baseX_train['waterfront'].fillna(0)\n",
    "baseX_test['waterfront']=baseX_test['waterfront'].fillna(0)"
   ]
  },
  {
   "cell_type": "code",
   "execution_count": 42,
   "metadata": {},
   "outputs": [],
   "source": [
    "baseX_train['yr_renovated']=baseX_train['yr_renovated'].fillna(0)\n",
    "baseX_test['yr_renovated']=baseX_test['yr_renovated'].fillna(0)"
   ]
  },
  {
   "cell_type": "code",
   "execution_count": 43,
   "metadata": {},
   "outputs": [],
   "source": [
    "baseX_train['view']=baseX_train['view'].fillna(0)\n",
    "baseX_test['view']=baseX_test['view'].fillna(0)"
   ]
  },
  {
   "cell_type": "code",
   "execution_count": 44,
   "metadata": {},
   "outputs": [
    {
     "name": "stdout",
     "output_type": "stream",
     "text": [
      "0.6579491980419906\n"
     ]
    }
   ],
   "source": [
    "lr.fit(baseX_train, basey_train)\n",
    "print(lr.score(baseX_train, basey_train))"
   ]
  },
  {
   "cell_type": "code",
   "execution_count": 45,
   "metadata": {},
   "outputs": [],
   "source": [
    "Y = 'price'\n",
    "pred_sum_base = '+'.join(baseX_train.columns)\n",
    "formula_base = Y + '~' + pred_sum_base\n",
    "Training_base=baseX_train.join(basey_train)\n"
   ]
  },
  {
   "cell_type": "code",
   "execution_count": 46,
   "metadata": {},
   "outputs": [
    {
     "data": {
      "text/html": [
       "<table class=\"simpletable\">\n",
       "<caption>OLS Regression Results</caption>\n",
       "<tr>\n",
       "  <th>Dep. Variable:</th>          <td>price</td>      <th>  R-squared:         </th>  <td>   0.658</td>  \n",
       "</tr>\n",
       "<tr>\n",
       "  <th>Model:</th>                   <td>OLS</td>       <th>  Adj. R-squared:    </th>  <td>   0.658</td>  \n",
       "</tr>\n",
       "<tr>\n",
       "  <th>Method:</th>             <td>Least Squares</td>  <th>  F-statistic:       </th>  <td>   2213.</td>  \n",
       "</tr>\n",
       "<tr>\n",
       "  <th>Date:</th>             <td>Mon, 09 Mar 2020</td> <th>  Prob (F-statistic):</th>   <td>  0.00</td>   \n",
       "</tr>\n",
       "<tr>\n",
       "  <th>Time:</th>                 <td>09:23:00</td>     <th>  Log-Likelihood:    </th> <td>-2.3671e+05</td>\n",
       "</tr>\n",
       "<tr>\n",
       "  <th>No. Observations:</th>      <td> 17277</td>      <th>  AIC:               </th>  <td>4.735e+05</td> \n",
       "</tr>\n",
       "<tr>\n",
       "  <th>Df Residuals:</th>          <td> 17261</td>      <th>  BIC:               </th>  <td>4.736e+05</td> \n",
       "</tr>\n",
       "<tr>\n",
       "  <th>Df Model:</th>              <td>    15</td>      <th>                     </th>      <td> </td>     \n",
       "</tr>\n",
       "<tr>\n",
       "  <th>Covariance Type:</th>      <td>nonrobust</td>    <th>                     </th>      <td> </td>     \n",
       "</tr>\n",
       "</table>\n",
       "<table class=\"simpletable\">\n",
       "<tr>\n",
       "        <td></td>           <th>coef</th>     <th>std err</th>      <th>t</th>      <th>P>|t|</th>  <th>[0.025</th>    <th>0.975]</th>  \n",
       "</tr>\n",
       "<tr>\n",
       "  <th>Intercept</th>     <td> 7.059e+06</td> <td>  3.5e+06</td> <td>    2.020</td> <td> 0.043</td> <td> 2.08e+05</td> <td> 1.39e+07</td>\n",
       "</tr>\n",
       "<tr>\n",
       "  <th>bedrooms</th>      <td>-4.366e+04</td> <td> 2366.404</td> <td>  -18.449</td> <td> 0.000</td> <td>-4.83e+04</td> <td> -3.9e+04</td>\n",
       "</tr>\n",
       "<tr>\n",
       "  <th>bathrooms</th>     <td> 4.852e+04</td> <td> 3934.868</td> <td>   12.330</td> <td> 0.000</td> <td> 4.08e+04</td> <td> 5.62e+04</td>\n",
       "</tr>\n",
       "<tr>\n",
       "  <th>sqft_living</th>   <td>  170.4163</td> <td>    5.285</td> <td>   32.247</td> <td> 0.000</td> <td>  160.058</td> <td>  180.775</td>\n",
       "</tr>\n",
       "<tr>\n",
       "  <th>sqft_lot</th>      <td>   -0.0274</td> <td>    0.058</td> <td>   -0.470</td> <td> 0.639</td> <td>   -0.142</td> <td>    0.087</td>\n",
       "</tr>\n",
       "<tr>\n",
       "  <th>floors</th>        <td> 3.019e+04</td> <td> 4287.413</td> <td>    7.041</td> <td> 0.000</td> <td> 2.18e+04</td> <td> 3.86e+04</td>\n",
       "</tr>\n",
       "<tr>\n",
       "  <th>waterfront</th>    <td> 5.962e+05</td> <td> 2.17e+04</td> <td>   27.529</td> <td> 0.000</td> <td> 5.54e+05</td> <td> 6.39e+05</td>\n",
       "</tr>\n",
       "<tr>\n",
       "  <th>view</th>          <td> 4.342e+04</td> <td> 2532.521</td> <td>   17.146</td> <td> 0.000</td> <td> 3.85e+04</td> <td> 4.84e+04</td>\n",
       "</tr>\n",
       "<tr>\n",
       "  <th>condition</th>     <td> 2.086e+04</td> <td> 2807.999</td> <td>    7.429</td> <td> 0.000</td> <td> 1.54e+04</td> <td> 2.64e+04</td>\n",
       "</tr>\n",
       "<tr>\n",
       "  <th>grade</th>         <td> 1.214e+05</td> <td> 2531.895</td> <td>   47.937</td> <td> 0.000</td> <td> 1.16e+05</td> <td> 1.26e+05</td>\n",
       "</tr>\n",
       "<tr>\n",
       "  <th>sqft_above</th>    <td>  -11.6919</td> <td>    5.132</td> <td>   -2.278</td> <td> 0.023</td> <td>  -21.750</td> <td>   -1.634</td>\n",
       "</tr>\n",
       "<tr>\n",
       "  <th>yr_built</th>      <td>-3644.4190</td> <td>   82.411</td> <td>  -44.222</td> <td> 0.000</td> <td>-3805.954</td> <td>-3482.884</td>\n",
       "</tr>\n",
       "<tr>\n",
       "  <th>yr_renovated</th>  <td>   11.2937</td> <td>    4.771</td> <td>    2.367</td> <td> 0.018</td> <td>    1.941</td> <td>   20.646</td>\n",
       "</tr>\n",
       "<tr>\n",
       "  <th>zipcode</th>       <td>   -7.4827</td> <td>   35.084</td> <td>   -0.213</td> <td> 0.831</td> <td>  -76.250</td> <td>   61.285</td>\n",
       "</tr>\n",
       "<tr>\n",
       "  <th>sqft_living15</th> <td>   28.8644</td> <td>    4.113</td> <td>    7.017</td> <td> 0.000</td> <td>   20.802</td> <td>   36.927</td>\n",
       "</tr>\n",
       "<tr>\n",
       "  <th>sqft_lot15</th>    <td>   -0.6094</td> <td>    0.087</td> <td>   -6.972</td> <td> 0.000</td> <td>   -0.781</td> <td>   -0.438</td>\n",
       "</tr>\n",
       "</table>\n",
       "<table class=\"simpletable\">\n",
       "<tr>\n",
       "  <th>Omnibus:</th>       <td>13130.735</td> <th>  Durbin-Watson:     </th>  <td>   2.004</td> \n",
       "</tr>\n",
       "<tr>\n",
       "  <th>Prob(Omnibus):</th>  <td> 0.000</td>   <th>  Jarque-Bera (JB):  </th> <td>930880.361</td>\n",
       "</tr>\n",
       "<tr>\n",
       "  <th>Skew:</th>           <td> 3.067</td>   <th>  Prob(JB):          </th>  <td>    0.00</td> \n",
       "</tr>\n",
       "<tr>\n",
       "  <th>Kurtosis:</th>       <td>38.433</td>   <th>  Cond. No.          </th>  <td>2.14e+08</td> \n",
       "</tr>\n",
       "</table><br/><br/>Warnings:<br/>[1] Standard Errors assume that the covariance matrix of the errors is correctly specified.<br/>[2] The condition number is large, 2.14e+08. This might indicate that there are<br/>strong multicollinearity or other numerical problems."
      ],
      "text/plain": [
       "<class 'statsmodels.iolib.summary.Summary'>\n",
       "\"\"\"\n",
       "                            OLS Regression Results                            \n",
       "==============================================================================\n",
       "Dep. Variable:                  price   R-squared:                       0.658\n",
       "Model:                            OLS   Adj. R-squared:                  0.658\n",
       "Method:                 Least Squares   F-statistic:                     2213.\n",
       "Date:                Mon, 09 Mar 2020   Prob (F-statistic):               0.00\n",
       "Time:                        09:23:00   Log-Likelihood:            -2.3671e+05\n",
       "No. Observations:               17277   AIC:                         4.735e+05\n",
       "Df Residuals:                   17261   BIC:                         4.736e+05\n",
       "Df Model:                          15                                         \n",
       "Covariance Type:            nonrobust                                         \n",
       "=================================================================================\n",
       "                    coef    std err          t      P>|t|      [0.025      0.975]\n",
       "---------------------------------------------------------------------------------\n",
       "Intercept      7.059e+06    3.5e+06      2.020      0.043    2.08e+05    1.39e+07\n",
       "bedrooms      -4.366e+04   2366.404    -18.449      0.000   -4.83e+04    -3.9e+04\n",
       "bathrooms      4.852e+04   3934.868     12.330      0.000    4.08e+04    5.62e+04\n",
       "sqft_living     170.4163      5.285     32.247      0.000     160.058     180.775\n",
       "sqft_lot         -0.0274      0.058     -0.470      0.639      -0.142       0.087\n",
       "floors         3.019e+04   4287.413      7.041      0.000    2.18e+04    3.86e+04\n",
       "waterfront     5.962e+05   2.17e+04     27.529      0.000    5.54e+05    6.39e+05\n",
       "view           4.342e+04   2532.521     17.146      0.000    3.85e+04    4.84e+04\n",
       "condition      2.086e+04   2807.999      7.429      0.000    1.54e+04    2.64e+04\n",
       "grade          1.214e+05   2531.895     47.937      0.000    1.16e+05    1.26e+05\n",
       "sqft_above      -11.6919      5.132     -2.278      0.023     -21.750      -1.634\n",
       "yr_built      -3644.4190     82.411    -44.222      0.000   -3805.954   -3482.884\n",
       "yr_renovated     11.2937      4.771      2.367      0.018       1.941      20.646\n",
       "zipcode          -7.4827     35.084     -0.213      0.831     -76.250      61.285\n",
       "sqft_living15    28.8644      4.113      7.017      0.000      20.802      36.927\n",
       "sqft_lot15       -0.6094      0.087     -6.972      0.000      -0.781      -0.438\n",
       "==============================================================================\n",
       "Omnibus:                    13130.735   Durbin-Watson:                   2.004\n",
       "Prob(Omnibus):                  0.000   Jarque-Bera (JB):           930880.361\n",
       "Skew:                           3.067   Prob(JB):                         0.00\n",
       "Kurtosis:                      38.433   Cond. No.                     2.14e+08\n",
       "==============================================================================\n",
       "\n",
       "Warnings:\n",
       "[1] Standard Errors assume that the covariance matrix of the errors is correctly specified.\n",
       "[2] The condition number is large, 2.14e+08. This might indicate that there are\n",
       "strong multicollinearity or other numerical problems.\n",
       "\"\"\""
      ]
     },
     "execution_count": 46,
     "metadata": {},
     "output_type": "execute_result"
    }
   ],
   "source": [
    "mod = smf.ols(formula=formula_base, data = Training_base)\n",
    "res = mod.fit()\n",
    "res.summary()"
   ]
  },
  {
   "cell_type": "markdown",
   "metadata": {},
   "source": [
    "# Model 2\n",
    "\n",
    "This is what I would like explore with this next model.\n",
    "\n",
    "To do this, I will try to scale my data and also add new variables"
   ]
  },
  {
   "cell_type": "code",
   "execution_count": 47,
   "metadata": {},
   "outputs": [],
   "source": [
    "Data=pd.read_csv('kc_house_data.csv')"
   ]
  },
  {
   "cell_type": "code",
   "execution_count": 48,
   "metadata": {},
   "outputs": [],
   "source": [
    "modely2 = Data['price']\n",
    "modelX2= Data.drop('price', axis=1)"
   ]
  },
  {
   "cell_type": "code",
   "execution_count": 49,
   "metadata": {},
   "outputs": [],
   "source": [
    "modelX2_train, modelX2_test, modely2_train, modely2_test = train_test_split(modelX2, modely2, test_size=.2, random_state=42)"
   ]
  },
  {
   "cell_type": "code",
   "execution_count": 50,
   "metadata": {},
   "outputs": [],
   "source": [
    "modelX2_train=modelX2_train.drop(['id','date','sqft_basement', 'lat','long'], axis=1,)\n",
    "modelX2_test=modelX2_test.drop(['id','date','sqft_basement', 'lat','long'], axis=1,)"
   ]
  },
  {
   "cell_type": "code",
   "execution_count": 51,
   "metadata": {},
   "outputs": [],
   "source": [
    "modelX2_train=modelX2_train.drop(['zipcode'], axis=1,)\n",
    "modelX2_test=modelX2_test.drop(['zipcode'], axis=1,)\n"
   ]
  },
  {
   "cell_type": "code",
   "execution_count": 52,
   "metadata": {},
   "outputs": [],
   "source": [
    "modelX2_train['waterfront']=modelX2_train['waterfront'].fillna(0)\n",
    "modelX2_test['waterfront']=modelX2_test['waterfront'].fillna(0)"
   ]
  },
  {
   "cell_type": "code",
   "execution_count": 53,
   "metadata": {},
   "outputs": [],
   "source": [
    "modelX2_train['yr_renovated']=modelX2_train['yr_renovated'].fillna(0)\n",
    "modelX2_test['yr_renovated']=modelX2_test['yr_renovated'].fillna(0)"
   ]
  },
  {
   "cell_type": "code",
   "execution_count": 54,
   "metadata": {},
   "outputs": [],
   "source": [
    "modelX2_train['view']=modelX2_train['view'].fillna(0)\n",
    "modelX2_test['view']=modelX2_test['view'].fillna(0)"
   ]
  },
  {
   "cell_type": "markdown",
   "metadata": {},
   "source": [
    "I decided to compare key features with the square foot of living"
   ]
  },
  {
   "cell_type": "code",
   "execution_count": 55,
   "metadata": {},
   "outputs": [],
   "source": [
    "# creating to a new variable called bedroomssqft\n",
    "modelX2_train['bedroomssqft']=modelX2_train['bedrooms']/modelX2_train['sqft_living']\n",
    "modelX2_test['bedroomssqft']=modelX2_test['bedrooms']/modelX2_test['sqft_living']\n",
    "\n",
    "modelX2_train['sqftlivingtototal']=modelX2_train['sqft_living']/modelX2_train['sqft_lot']\n",
    "modelX2_test['sqftlivingtototal']=modelX2_test['sqft_living']/modelX2_test['sqft_lot']\n",
    "\n",
    "modelX2_train['bedroomstoliving']=modelX2_train['bedrooms']/modelX2_train['sqft_living']\n",
    "modelX2_test['bedroomstoliving']=modelX2_test['bedrooms']/modelX2_test['sqft_living']\n",
    "\n",
    "modelX2_train.drop(['sqft_lot'],axis=1,inplace=True)\n",
    "modelX2_test.drop(['sqft_lot'],axis=1,inplace=True)\n"
   ]
  },
  {
   "cell_type": "markdown",
   "metadata": {},
   "source": [
    "I wanted to try the standard scalar method to scale my data.\n",
    "I used the sklearn package to do this."
   ]
  },
  {
   "cell_type": "code",
   "execution_count": 56,
   "metadata": {},
   "outputs": [],
   "source": [
    "ss = StandardScaler()\n",
    "column2= modelX2_train.columns\n",
    "modelX2_train = pd.DataFrame(ss.fit_transform(modelX2_train))\n",
    "modelX2_train.columns = column2"
   ]
  },
  {
   "cell_type": "code",
   "execution_count": 57,
   "metadata": {},
   "outputs": [],
   "source": [
    "modely2_train.index = modelX2_train.index"
   ]
  },
  {
   "cell_type": "code",
   "execution_count": 58,
   "metadata": {},
   "outputs": [],
   "source": [
    "column2= modelX2_test.columns\n",
    "modelX2_test = pd.DataFrame(ss.transform(modelX2_test))\n",
    "modelX2_test.columns = column2"
   ]
  },
  {
   "cell_type": "code",
   "execution_count": 59,
   "metadata": {},
   "outputs": [],
   "source": [
    "modely2_test.index = modelX2_test.index"
   ]
  },
  {
   "cell_type": "code",
   "execution_count": 60,
   "metadata": {},
   "outputs": [
    {
     "name": "stdout",
     "output_type": "stream",
     "text": [
      "0.6843898910874144\n"
     ]
    }
   ],
   "source": [
    "lr.fit(modelX2_train, modely2_train)\n",
    "print(lr.score(modelX2_train, modely2_train))"
   ]
  },
  {
   "cell_type": "code",
   "execution_count": 61,
   "metadata": {},
   "outputs": [
    {
     "name": "stdout",
     "output_type": "stream",
     "text": [
      "0.6710180298519047\n"
     ]
    }
   ],
   "source": [
    "lr.fit(modelX2_test,modely2_test)\n",
    "print(lr.score(modelX2_test,modely2_test))"
   ]
  },
  {
   "cell_type": "code",
   "execution_count": 62,
   "metadata": {},
   "outputs": [],
   "source": [
    "Y = 'price'\n",
    "pred_sum_2 = '+'.join(modelX2_train.columns)\n",
    "formula_2 = Y + '~' + pred_sum_2\n",
    "Training_2=modelX2_train.join(modely2_train)"
   ]
  },
  {
   "cell_type": "code",
   "execution_count": 63,
   "metadata": {},
   "outputs": [
    {
     "data": {
      "text/html": [
       "<table class=\"simpletable\">\n",
       "<caption>OLS Regression Results</caption>\n",
       "<tr>\n",
       "  <th>Dep. Variable:</th>          <td>price</td>      <th>  R-squared:         </th>  <td>   0.684</td>  \n",
       "</tr>\n",
       "<tr>\n",
       "  <th>Model:</th>                   <td>OLS</td>       <th>  Adj. R-squared:    </th>  <td>   0.684</td>  \n",
       "</tr>\n",
       "<tr>\n",
       "  <th>Method:</th>             <td>Least Squares</td>  <th>  F-statistic:       </th>  <td>   2495.</td>  \n",
       "</tr>\n",
       "<tr>\n",
       "  <th>Date:</th>             <td>Mon, 09 Mar 2020</td> <th>  Prob (F-statistic):</th>   <td>  0.00</td>   \n",
       "</tr>\n",
       "<tr>\n",
       "  <th>Time:</th>                 <td>09:23:04</td>     <th>  Log-Likelihood:    </th> <td>-2.3602e+05</td>\n",
       "</tr>\n",
       "<tr>\n",
       "  <th>No. Observations:</th>      <td> 17277</td>      <th>  AIC:               </th>  <td>4.721e+05</td> \n",
       "</tr>\n",
       "<tr>\n",
       "  <th>Df Residuals:</th>          <td> 17261</td>      <th>  BIC:               </th>  <td>4.722e+05</td> \n",
       "</tr>\n",
       "<tr>\n",
       "  <th>Df Model:</th>              <td>    15</td>      <th>                     </th>      <td> </td>     \n",
       "</tr>\n",
       "<tr>\n",
       "  <th>Covariance Type:</th>      <td>nonrobust</td>    <th>                     </th>      <td> </td>     \n",
       "</tr>\n",
       "</table>\n",
       "<table class=\"simpletable\">\n",
       "<tr>\n",
       "          <td></td>             <th>coef</th>     <th>std err</th>      <th>t</th>      <th>P>|t|</th>  <th>[0.025</th>    <th>0.975]</th>  \n",
       "</tr>\n",
       "<tr>\n",
       "  <th>Intercept</th>         <td> 5.415e+05</td> <td> 1577.682</td> <td>  343.237</td> <td> 0.000</td> <td> 5.38e+05</td> <td> 5.45e+05</td>\n",
       "</tr>\n",
       "<tr>\n",
       "  <th>bedrooms</th>          <td>-1.152e+05</td> <td> 3061.138</td> <td>  -37.626</td> <td> 0.000</td> <td>-1.21e+05</td> <td>-1.09e+05</td>\n",
       "</tr>\n",
       "<tr>\n",
       "  <th>bathrooms</th>         <td> 4.403e+04</td> <td> 2933.071</td> <td>   15.013</td> <td> 0.000</td> <td> 3.83e+04</td> <td> 4.98e+04</td>\n",
       "</tr>\n",
       "<tr>\n",
       "  <th>sqft_living</th>       <td> 2.624e+05</td> <td> 5964.262</td> <td>   43.992</td> <td> 0.000</td> <td> 2.51e+05</td> <td> 2.74e+05</td>\n",
       "</tr>\n",
       "<tr>\n",
       "  <th>floors</th>            <td>-4222.0715</td> <td> 2682.834</td> <td>   -1.574</td> <td> 0.116</td> <td>-9480.699</td> <td> 1036.556</td>\n",
       "</tr>\n",
       "<tr>\n",
       "  <th>waterfront</th>        <td> 4.866e+04</td> <td> 1715.231</td> <td>   28.372</td> <td> 0.000</td> <td> 4.53e+04</td> <td>  5.2e+04</td>\n",
       "</tr>\n",
       "<tr>\n",
       "  <th>view</th>              <td> 2.927e+04</td> <td> 1853.067</td> <td>   15.795</td> <td> 0.000</td> <td> 2.56e+04</td> <td> 3.29e+04</td>\n",
       "</tr>\n",
       "<tr>\n",
       "  <th>condition</th>         <td>  1.68e+04</td> <td> 1741.988</td> <td>    9.641</td> <td> 0.000</td> <td> 1.34e+04</td> <td> 2.02e+04</td>\n",
       "</tr>\n",
       "<tr>\n",
       "  <th>grade</th>             <td>  1.35e+05</td> <td> 2854.576</td> <td>   47.300</td> <td> 0.000</td> <td> 1.29e+05</td> <td> 1.41e+05</td>\n",
       "</tr>\n",
       "<tr>\n",
       "  <th>sqft_above</th>        <td> 1858.6905</td> <td> 4379.080</td> <td>    0.424</td> <td> 0.671</td> <td>-6724.751</td> <td> 1.04e+04</td>\n",
       "</tr>\n",
       "<tr>\n",
       "  <th>yr_built</th>          <td>-1.049e+05</td> <td> 2217.062</td> <td>  -47.304</td> <td> 0.000</td> <td>-1.09e+05</td> <td>-1.01e+05</td>\n",
       "</tr>\n",
       "<tr>\n",
       "  <th>yr_renovated</th>      <td> 6223.1988</td> <td> 1665.464</td> <td>    3.737</td> <td> 0.000</td> <td> 2958.721</td> <td> 9487.677</td>\n",
       "</tr>\n",
       "<tr>\n",
       "  <th>sqft_living15</th>     <td> 3.692e+04</td> <td> 2707.314</td> <td>   13.636</td> <td> 0.000</td> <td> 3.16e+04</td> <td> 4.22e+04</td>\n",
       "</tr>\n",
       "<tr>\n",
       "  <th>sqft_lot15</th>        <td>-9914.2213</td> <td> 1709.154</td> <td>   -5.801</td> <td> 0.000</td> <td>-1.33e+04</td> <td>-6564.105</td>\n",
       "</tr>\n",
       "<tr>\n",
       "  <th>bedroomssqft</th>      <td> 5.803e+04</td> <td> 1687.804</td> <td>   34.381</td> <td> 0.000</td> <td> 5.47e+04</td> <td> 6.13e+04</td>\n",
       "</tr>\n",
       "<tr>\n",
       "  <th>sqftlivingtototal</th> <td> 4.071e+04</td> <td> 2278.883</td> <td>   17.862</td> <td> 0.000</td> <td> 3.62e+04</td> <td> 4.52e+04</td>\n",
       "</tr>\n",
       "<tr>\n",
       "  <th>bedroomstoliving</th>  <td> 5.803e+04</td> <td> 1687.804</td> <td>   34.381</td> <td> 0.000</td> <td> 5.47e+04</td> <td> 6.13e+04</td>\n",
       "</tr>\n",
       "</table>\n",
       "<table class=\"simpletable\">\n",
       "<tr>\n",
       "  <th>Omnibus:</th>       <td>10819.589</td> <th>  Durbin-Watson:     </th>  <td>   2.014</td> \n",
       "</tr>\n",
       "<tr>\n",
       "  <th>Prob(Omnibus):</th>  <td> 0.000</td>   <th>  Jarque-Bera (JB):  </th> <td>462743.201</td>\n",
       "</tr>\n",
       "<tr>\n",
       "  <th>Skew:</th>           <td> 2.404</td>   <th>  Prob(JB):          </th>  <td>    0.00</td> \n",
       "</tr>\n",
       "<tr>\n",
       "  <th>Kurtosis:</th>       <td>27.894</td>   <th>  Cond. No.          </th>  <td>9.39e+15</td> \n",
       "</tr>\n",
       "</table><br/><br/>Warnings:<br/>[1] Standard Errors assume that the covariance matrix of the errors is correctly specified.<br/>[2] The smallest eigenvalue is 1.17e-27. This might indicate that there are<br/>strong multicollinearity problems or that the design matrix is singular."
      ],
      "text/plain": [
       "<class 'statsmodels.iolib.summary.Summary'>\n",
       "\"\"\"\n",
       "                            OLS Regression Results                            \n",
       "==============================================================================\n",
       "Dep. Variable:                  price   R-squared:                       0.684\n",
       "Model:                            OLS   Adj. R-squared:                  0.684\n",
       "Method:                 Least Squares   F-statistic:                     2495.\n",
       "Date:                Mon, 09 Mar 2020   Prob (F-statistic):               0.00\n",
       "Time:                        09:23:04   Log-Likelihood:            -2.3602e+05\n",
       "No. Observations:               17277   AIC:                         4.721e+05\n",
       "Df Residuals:                   17261   BIC:                         4.722e+05\n",
       "Df Model:                          15                                         \n",
       "Covariance Type:            nonrobust                                         \n",
       "=====================================================================================\n",
       "                        coef    std err          t      P>|t|      [0.025      0.975]\n",
       "-------------------------------------------------------------------------------------\n",
       "Intercept          5.415e+05   1577.682    343.237      0.000    5.38e+05    5.45e+05\n",
       "bedrooms          -1.152e+05   3061.138    -37.626      0.000   -1.21e+05   -1.09e+05\n",
       "bathrooms          4.403e+04   2933.071     15.013      0.000    3.83e+04    4.98e+04\n",
       "sqft_living        2.624e+05   5964.262     43.992      0.000    2.51e+05    2.74e+05\n",
       "floors            -4222.0715   2682.834     -1.574      0.116   -9480.699    1036.556\n",
       "waterfront         4.866e+04   1715.231     28.372      0.000    4.53e+04     5.2e+04\n",
       "view               2.927e+04   1853.067     15.795      0.000    2.56e+04    3.29e+04\n",
       "condition           1.68e+04   1741.988      9.641      0.000    1.34e+04    2.02e+04\n",
       "grade               1.35e+05   2854.576     47.300      0.000    1.29e+05    1.41e+05\n",
       "sqft_above         1858.6905   4379.080      0.424      0.671   -6724.751    1.04e+04\n",
       "yr_built          -1.049e+05   2217.062    -47.304      0.000   -1.09e+05   -1.01e+05\n",
       "yr_renovated       6223.1988   1665.464      3.737      0.000    2958.721    9487.677\n",
       "sqft_living15      3.692e+04   2707.314     13.636      0.000    3.16e+04    4.22e+04\n",
       "sqft_lot15        -9914.2213   1709.154     -5.801      0.000   -1.33e+04   -6564.105\n",
       "bedroomssqft       5.803e+04   1687.804     34.381      0.000    5.47e+04    6.13e+04\n",
       "sqftlivingtototal  4.071e+04   2278.883     17.862      0.000    3.62e+04    4.52e+04\n",
       "bedroomstoliving   5.803e+04   1687.804     34.381      0.000    5.47e+04    6.13e+04\n",
       "==============================================================================\n",
       "Omnibus:                    10819.589   Durbin-Watson:                   2.014\n",
       "Prob(Omnibus):                  0.000   Jarque-Bera (JB):           462743.201\n",
       "Skew:                           2.404   Prob(JB):                         0.00\n",
       "Kurtosis:                      27.894   Cond. No.                     9.39e+15\n",
       "==============================================================================\n",
       "\n",
       "Warnings:\n",
       "[1] Standard Errors assume that the covariance matrix of the errors is correctly specified.\n",
       "[2] The smallest eigenvalue is 1.17e-27. This might indicate that there are\n",
       "strong multicollinearity problems or that the design matrix is singular.\n",
       "\"\"\""
      ]
     },
     "execution_count": 63,
     "metadata": {},
     "output_type": "execute_result"
    }
   ],
   "source": [
    "mod = smf.ols(formula=formula_2, data = Training_2)\n",
    "res = mod.fit()\n",
    "res.summary()\n"
   ]
  },
  {
   "cell_type": "markdown",
   "metadata": {},
   "source": [
    "# Model 3\n",
    "I decided to try out another model. For this model i decided to get rid of outliers using the natural log of my coefefficnet"
   ]
  },
  {
   "cell_type": "code",
   "execution_count": 64,
   "metadata": {},
   "outputs": [],
   "source": [
    "Data=pd.read_csv('kc_house_data.csv')"
   ]
  },
  {
   "cell_type": "code",
   "execution_count": 65,
   "metadata": {},
   "outputs": [],
   "source": [
    "modely3 = Data['price']\n",
    "modelX3= Data.drop('price', axis=1)"
   ]
  },
  {
   "cell_type": "code",
   "execution_count": 66,
   "metadata": {},
   "outputs": [],
   "source": [
    "modelX3_train, modelX3_test, modely3_train, modely3_test = train_test_split(modelX3, modely3, test_size=.2, random_state=42)"
   ]
  },
  {
   "cell_type": "code",
   "execution_count": 67,
   "metadata": {},
   "outputs": [],
   "source": [
    "modelX3_train=modelX2_train\n",
    "modelX3_test=modelX2_test\n",
    "modely3_train=modely2_train\n",
    "modely3_test=modely2_test"
   ]
  },
  {
   "cell_type": "code",
   "execution_count": 68,
   "metadata": {},
   "outputs": [
    {
     "data": {
      "text/html": [
       "<div>\n",
       "<style scoped>\n",
       "    .dataframe tbody tr th:only-of-type {\n",
       "        vertical-align: middle;\n",
       "    }\n",
       "\n",
       "    .dataframe tbody tr th {\n",
       "        vertical-align: top;\n",
       "    }\n",
       "\n",
       "    .dataframe thead th {\n",
       "        text-align: right;\n",
       "    }\n",
       "</style>\n",
       "<table border=\"1\" class=\"dataframe\">\n",
       "  <thead>\n",
       "    <tr style=\"text-align: right;\">\n",
       "      <th></th>\n",
       "      <th>bedrooms</th>\n",
       "      <th>bathrooms</th>\n",
       "      <th>sqft_living</th>\n",
       "      <th>floors</th>\n",
       "      <th>waterfront</th>\n",
       "      <th>view</th>\n",
       "      <th>condition</th>\n",
       "      <th>grade</th>\n",
       "      <th>sqft_above</th>\n",
       "      <th>yr_built</th>\n",
       "      <th>yr_renovated</th>\n",
       "      <th>sqft_living15</th>\n",
       "      <th>sqft_lot15</th>\n",
       "      <th>bedroomssqft</th>\n",
       "      <th>sqftlivingtototal</th>\n",
       "      <th>bedroomstoliving</th>\n",
       "    </tr>\n",
       "  </thead>\n",
       "  <tbody>\n",
       "    <tr>\n",
       "      <td>0</td>\n",
       "      <td>0.691203</td>\n",
       "      <td>-0.149233</td>\n",
       "      <td>-0.701342</td>\n",
       "      <td>0.933592</td>\n",
       "      <td>-0.082927</td>\n",
       "      <td>-0.302718</td>\n",
       "      <td>0.905470</td>\n",
       "      <td>-0.562768</td>\n",
       "      <td>-0.424152</td>\n",
       "      <td>0.035248</td>\n",
       "      <td>-0.188523</td>\n",
       "      <td>-1.005735</td>\n",
       "      <td>-0.322386</td>\n",
       "      <td>1.734391</td>\n",
       "      <td>-0.102960</td>\n",
       "      <td>1.734391</td>\n",
       "    </tr>\n",
       "    <tr>\n",
       "      <td>1</td>\n",
       "      <td>-0.414530</td>\n",
       "      <td>-0.474899</td>\n",
       "      <td>-0.712241</td>\n",
       "      <td>-0.915081</td>\n",
       "      <td>-0.082927</td>\n",
       "      <td>2.312310</td>\n",
       "      <td>0.905470</td>\n",
       "      <td>-0.562768</td>\n",
       "      <td>-0.787361</td>\n",
       "      <td>0.307771</td>\n",
       "      <td>-0.188523</td>\n",
       "      <td>-0.991102</td>\n",
       "      <td>-0.107778</td>\n",
       "      <td>0.535822</td>\n",
       "      <td>-0.662448</td>\n",
       "      <td>0.535822</td>\n",
       "    </tr>\n",
       "    <tr>\n",
       "      <td>2</td>\n",
       "      <td>0.691203</td>\n",
       "      <td>0.827764</td>\n",
       "      <td>1.129672</td>\n",
       "      <td>0.933592</td>\n",
       "      <td>-0.082927</td>\n",
       "      <td>-0.302718</td>\n",
       "      <td>-0.631098</td>\n",
       "      <td>1.148415</td>\n",
       "      <td>1.609819</td>\n",
       "      <td>1.329731</td>\n",
       "      <td>-0.188523</td>\n",
       "      <td>1.774496</td>\n",
       "      <td>-0.288344</td>\n",
       "      <td>-0.902462</td>\n",
       "      <td>1.105905</td>\n",
       "      <td>-0.902462</td>\n",
       "    </tr>\n",
       "    <tr>\n",
       "      <td>3</td>\n",
       "      <td>0.691203</td>\n",
       "      <td>0.502099</td>\n",
       "      <td>-0.025611</td>\n",
       "      <td>-0.915081</td>\n",
       "      <td>-0.082927</td>\n",
       "      <td>-0.302718</td>\n",
       "      <td>-0.631098</td>\n",
       "      <td>-0.562768</td>\n",
       "      <td>-0.690506</td>\n",
       "      <td>0.103379</td>\n",
       "      <td>-0.188523</td>\n",
       "      <td>-0.332626</td>\n",
       "      <td>-0.201391</td>\n",
       "      <td>0.260533</td>\n",
       "      <td>-0.104952</td>\n",
       "      <td>0.260533</td>\n",
       "    </tr>\n",
       "    <tr>\n",
       "      <td>4</td>\n",
       "      <td>-0.414530</td>\n",
       "      <td>-0.149233</td>\n",
       "      <td>0.453941</td>\n",
       "      <td>0.009256</td>\n",
       "      <td>-0.082927</td>\n",
       "      <td>-0.302718</td>\n",
       "      <td>2.442038</td>\n",
       "      <td>-0.562768</td>\n",
       "      <td>-0.133585</td>\n",
       "      <td>-1.668018</td>\n",
       "      <td>-0.188523</td>\n",
       "      <td>-0.639915</td>\n",
       "      <td>-0.360127</td>\n",
       "      <td>-1.047112</td>\n",
       "      <td>1.064348</td>\n",
       "      <td>-1.047112</td>\n",
       "    </tr>\n",
       "  </tbody>\n",
       "</table>\n",
       "</div>"
      ],
      "text/plain": [
       "   bedrooms  bathrooms  sqft_living    floors  waterfront      view  \\\n",
       "0  0.691203  -0.149233    -0.701342  0.933592   -0.082927 -0.302718   \n",
       "1 -0.414530  -0.474899    -0.712241 -0.915081   -0.082927  2.312310   \n",
       "2  0.691203   0.827764     1.129672  0.933592   -0.082927 -0.302718   \n",
       "3  0.691203   0.502099    -0.025611 -0.915081   -0.082927 -0.302718   \n",
       "4 -0.414530  -0.149233     0.453941  0.009256   -0.082927 -0.302718   \n",
       "\n",
       "   condition     grade  sqft_above  yr_built  yr_renovated  sqft_living15  \\\n",
       "0   0.905470 -0.562768   -0.424152  0.035248     -0.188523      -1.005735   \n",
       "1   0.905470 -0.562768   -0.787361  0.307771     -0.188523      -0.991102   \n",
       "2  -0.631098  1.148415    1.609819  1.329731     -0.188523       1.774496   \n",
       "3  -0.631098 -0.562768   -0.690506  0.103379     -0.188523      -0.332626   \n",
       "4   2.442038 -0.562768   -0.133585 -1.668018     -0.188523      -0.639915   \n",
       "\n",
       "   sqft_lot15  bedroomssqft  sqftlivingtototal  bedroomstoliving  \n",
       "0   -0.322386      1.734391          -0.102960          1.734391  \n",
       "1   -0.107778      0.535822          -0.662448          0.535822  \n",
       "2   -0.288344     -0.902462           1.105905         -0.902462  \n",
       "3   -0.201391      0.260533          -0.104952          0.260533  \n",
       "4   -0.360127     -1.047112           1.064348         -1.047112  "
      ]
     },
     "execution_count": 68,
     "metadata": {},
     "output_type": "execute_result"
    }
   ],
   "source": [
    "modelX3_train.head()"
   ]
  },
  {
   "cell_type": "code",
   "execution_count": 69,
   "metadata": {},
   "outputs": [
    {
     "data": {
      "text/html": [
       "<div>\n",
       "<style scoped>\n",
       "    .dataframe tbody tr th:only-of-type {\n",
       "        vertical-align: middle;\n",
       "    }\n",
       "\n",
       "    .dataframe tbody tr th {\n",
       "        vertical-align: top;\n",
       "    }\n",
       "\n",
       "    .dataframe thead th {\n",
       "        text-align: right;\n",
       "    }\n",
       "</style>\n",
       "<table border=\"1\" class=\"dataframe\">\n",
       "  <thead>\n",
       "    <tr style=\"text-align: right;\">\n",
       "      <th></th>\n",
       "      <th>bedrooms</th>\n",
       "      <th>bathrooms</th>\n",
       "      <th>sqft_living</th>\n",
       "      <th>floors</th>\n",
       "      <th>waterfront</th>\n",
       "      <th>view</th>\n",
       "      <th>condition</th>\n",
       "      <th>grade</th>\n",
       "      <th>sqft_above</th>\n",
       "      <th>yr_built</th>\n",
       "      <th>yr_renovated</th>\n",
       "      <th>sqft_living15</th>\n",
       "      <th>sqft_lot15</th>\n",
       "      <th>bedroomssqft</th>\n",
       "      <th>sqftlivingtototal</th>\n",
       "      <th>bedroomstoliving</th>\n",
       "    </tr>\n",
       "  </thead>\n",
       "  <tbody>\n",
       "    <tr>\n",
       "      <td>bedrooms</td>\n",
       "      <td>False</td>\n",
       "      <td>False</td>\n",
       "      <td>False</td>\n",
       "      <td>False</td>\n",
       "      <td>False</td>\n",
       "      <td>False</td>\n",
       "      <td>False</td>\n",
       "      <td>False</td>\n",
       "      <td>False</td>\n",
       "      <td>False</td>\n",
       "      <td>False</td>\n",
       "      <td>False</td>\n",
       "      <td>False</td>\n",
       "      <td>False</td>\n",
       "      <td>False</td>\n",
       "      <td>False</td>\n",
       "    </tr>\n",
       "    <tr>\n",
       "      <td>bathrooms</td>\n",
       "      <td>False</td>\n",
       "      <td>False</td>\n",
       "      <td>False</td>\n",
       "      <td>False</td>\n",
       "      <td>False</td>\n",
       "      <td>False</td>\n",
       "      <td>False</td>\n",
       "      <td>False</td>\n",
       "      <td>False</td>\n",
       "      <td>False</td>\n",
       "      <td>False</td>\n",
       "      <td>False</td>\n",
       "      <td>False</td>\n",
       "      <td>False</td>\n",
       "      <td>False</td>\n",
       "      <td>False</td>\n",
       "    </tr>\n",
       "    <tr>\n",
       "      <td>sqft_living</td>\n",
       "      <td>False</td>\n",
       "      <td>False</td>\n",
       "      <td>False</td>\n",
       "      <td>False</td>\n",
       "      <td>False</td>\n",
       "      <td>False</td>\n",
       "      <td>False</td>\n",
       "      <td>False</td>\n",
       "      <td>False</td>\n",
       "      <td>False</td>\n",
       "      <td>False</td>\n",
       "      <td>False</td>\n",
       "      <td>False</td>\n",
       "      <td>False</td>\n",
       "      <td>False</td>\n",
       "      <td>False</td>\n",
       "    </tr>\n",
       "    <tr>\n",
       "      <td>floors</td>\n",
       "      <td>False</td>\n",
       "      <td>False</td>\n",
       "      <td>False</td>\n",
       "      <td>False</td>\n",
       "      <td>False</td>\n",
       "      <td>False</td>\n",
       "      <td>False</td>\n",
       "      <td>False</td>\n",
       "      <td>False</td>\n",
       "      <td>False</td>\n",
       "      <td>False</td>\n",
       "      <td>False</td>\n",
       "      <td>False</td>\n",
       "      <td>False</td>\n",
       "      <td>False</td>\n",
       "      <td>False</td>\n",
       "    </tr>\n",
       "    <tr>\n",
       "      <td>waterfront</td>\n",
       "      <td>False</td>\n",
       "      <td>False</td>\n",
       "      <td>False</td>\n",
       "      <td>False</td>\n",
       "      <td>False</td>\n",
       "      <td>False</td>\n",
       "      <td>False</td>\n",
       "      <td>False</td>\n",
       "      <td>False</td>\n",
       "      <td>False</td>\n",
       "      <td>False</td>\n",
       "      <td>False</td>\n",
       "      <td>False</td>\n",
       "      <td>False</td>\n",
       "      <td>False</td>\n",
       "      <td>False</td>\n",
       "    </tr>\n",
       "    <tr>\n",
       "      <td>view</td>\n",
       "      <td>False</td>\n",
       "      <td>False</td>\n",
       "      <td>False</td>\n",
       "      <td>False</td>\n",
       "      <td>False</td>\n",
       "      <td>False</td>\n",
       "      <td>False</td>\n",
       "      <td>False</td>\n",
       "      <td>False</td>\n",
       "      <td>False</td>\n",
       "      <td>False</td>\n",
       "      <td>False</td>\n",
       "      <td>False</td>\n",
       "      <td>False</td>\n",
       "      <td>False</td>\n",
       "      <td>False</td>\n",
       "    </tr>\n",
       "    <tr>\n",
       "      <td>condition</td>\n",
       "      <td>False</td>\n",
       "      <td>False</td>\n",
       "      <td>False</td>\n",
       "      <td>False</td>\n",
       "      <td>False</td>\n",
       "      <td>False</td>\n",
       "      <td>False</td>\n",
       "      <td>False</td>\n",
       "      <td>False</td>\n",
       "      <td>False</td>\n",
       "      <td>False</td>\n",
       "      <td>False</td>\n",
       "      <td>False</td>\n",
       "      <td>False</td>\n",
       "      <td>False</td>\n",
       "      <td>False</td>\n",
       "    </tr>\n",
       "    <tr>\n",
       "      <td>grade</td>\n",
       "      <td>False</td>\n",
       "      <td>False</td>\n",
       "      <td>False</td>\n",
       "      <td>False</td>\n",
       "      <td>False</td>\n",
       "      <td>False</td>\n",
       "      <td>False</td>\n",
       "      <td>False</td>\n",
       "      <td>False</td>\n",
       "      <td>False</td>\n",
       "      <td>False</td>\n",
       "      <td>False</td>\n",
       "      <td>False</td>\n",
       "      <td>False</td>\n",
       "      <td>False</td>\n",
       "      <td>False</td>\n",
       "    </tr>\n",
       "    <tr>\n",
       "      <td>sqft_above</td>\n",
       "      <td>False</td>\n",
       "      <td>False</td>\n",
       "      <td>False</td>\n",
       "      <td>False</td>\n",
       "      <td>False</td>\n",
       "      <td>False</td>\n",
       "      <td>False</td>\n",
       "      <td>False</td>\n",
       "      <td>False</td>\n",
       "      <td>False</td>\n",
       "      <td>False</td>\n",
       "      <td>False</td>\n",
       "      <td>False</td>\n",
       "      <td>False</td>\n",
       "      <td>False</td>\n",
       "      <td>False</td>\n",
       "    </tr>\n",
       "    <tr>\n",
       "      <td>yr_built</td>\n",
       "      <td>False</td>\n",
       "      <td>False</td>\n",
       "      <td>False</td>\n",
       "      <td>False</td>\n",
       "      <td>False</td>\n",
       "      <td>False</td>\n",
       "      <td>False</td>\n",
       "      <td>False</td>\n",
       "      <td>False</td>\n",
       "      <td>False</td>\n",
       "      <td>False</td>\n",
       "      <td>False</td>\n",
       "      <td>False</td>\n",
       "      <td>False</td>\n",
       "      <td>False</td>\n",
       "      <td>False</td>\n",
       "    </tr>\n",
       "    <tr>\n",
       "      <td>yr_renovated</td>\n",
       "      <td>False</td>\n",
       "      <td>False</td>\n",
       "      <td>False</td>\n",
       "      <td>False</td>\n",
       "      <td>False</td>\n",
       "      <td>False</td>\n",
       "      <td>False</td>\n",
       "      <td>False</td>\n",
       "      <td>False</td>\n",
       "      <td>False</td>\n",
       "      <td>False</td>\n",
       "      <td>False</td>\n",
       "      <td>False</td>\n",
       "      <td>False</td>\n",
       "      <td>False</td>\n",
       "      <td>False</td>\n",
       "    </tr>\n",
       "    <tr>\n",
       "      <td>sqft_living15</td>\n",
       "      <td>False</td>\n",
       "      <td>False</td>\n",
       "      <td>False</td>\n",
       "      <td>False</td>\n",
       "      <td>False</td>\n",
       "      <td>False</td>\n",
       "      <td>False</td>\n",
       "      <td>False</td>\n",
       "      <td>False</td>\n",
       "      <td>False</td>\n",
       "      <td>False</td>\n",
       "      <td>False</td>\n",
       "      <td>False</td>\n",
       "      <td>False</td>\n",
       "      <td>False</td>\n",
       "      <td>False</td>\n",
       "    </tr>\n",
       "    <tr>\n",
       "      <td>sqft_lot15</td>\n",
       "      <td>False</td>\n",
       "      <td>False</td>\n",
       "      <td>False</td>\n",
       "      <td>False</td>\n",
       "      <td>False</td>\n",
       "      <td>False</td>\n",
       "      <td>False</td>\n",
       "      <td>False</td>\n",
       "      <td>False</td>\n",
       "      <td>False</td>\n",
       "      <td>False</td>\n",
       "      <td>False</td>\n",
       "      <td>False</td>\n",
       "      <td>False</td>\n",
       "      <td>False</td>\n",
       "      <td>False</td>\n",
       "    </tr>\n",
       "    <tr>\n",
       "      <td>bedroomssqft</td>\n",
       "      <td>False</td>\n",
       "      <td>False</td>\n",
       "      <td>False</td>\n",
       "      <td>False</td>\n",
       "      <td>False</td>\n",
       "      <td>False</td>\n",
       "      <td>False</td>\n",
       "      <td>False</td>\n",
       "      <td>False</td>\n",
       "      <td>False</td>\n",
       "      <td>False</td>\n",
       "      <td>False</td>\n",
       "      <td>False</td>\n",
       "      <td>False</td>\n",
       "      <td>False</td>\n",
       "      <td>False</td>\n",
       "    </tr>\n",
       "    <tr>\n",
       "      <td>sqftlivingtototal</td>\n",
       "      <td>False</td>\n",
       "      <td>False</td>\n",
       "      <td>False</td>\n",
       "      <td>False</td>\n",
       "      <td>False</td>\n",
       "      <td>False</td>\n",
       "      <td>False</td>\n",
       "      <td>False</td>\n",
       "      <td>False</td>\n",
       "      <td>False</td>\n",
       "      <td>False</td>\n",
       "      <td>False</td>\n",
       "      <td>False</td>\n",
       "      <td>False</td>\n",
       "      <td>False</td>\n",
       "      <td>False</td>\n",
       "    </tr>\n",
       "    <tr>\n",
       "      <td>bedroomstoliving</td>\n",
       "      <td>False</td>\n",
       "      <td>False</td>\n",
       "      <td>False</td>\n",
       "      <td>False</td>\n",
       "      <td>False</td>\n",
       "      <td>False</td>\n",
       "      <td>False</td>\n",
       "      <td>False</td>\n",
       "      <td>False</td>\n",
       "      <td>False</td>\n",
       "      <td>False</td>\n",
       "      <td>False</td>\n",
       "      <td>False</td>\n",
       "      <td>False</td>\n",
       "      <td>False</td>\n",
       "      <td>False</td>\n",
       "    </tr>\n",
       "  </tbody>\n",
       "</table>\n",
       "</div>"
      ],
      "text/plain": [
       "                   bedrooms  bathrooms  sqft_living  floors  waterfront  \\\n",
       "bedrooms              False      False        False   False       False   \n",
       "bathrooms             False      False        False   False       False   \n",
       "sqft_living           False      False        False   False       False   \n",
       "floors                False      False        False   False       False   \n",
       "waterfront            False      False        False   False       False   \n",
       "view                  False      False        False   False       False   \n",
       "condition             False      False        False   False       False   \n",
       "grade                 False      False        False   False       False   \n",
       "sqft_above            False      False        False   False       False   \n",
       "yr_built              False      False        False   False       False   \n",
       "yr_renovated          False      False        False   False       False   \n",
       "sqft_living15         False      False        False   False       False   \n",
       "sqft_lot15            False      False        False   False       False   \n",
       "bedroomssqft          False      False        False   False       False   \n",
       "sqftlivingtototal     False      False        False   False       False   \n",
       "bedroomstoliving      False      False        False   False       False   \n",
       "\n",
       "                    view  condition  grade  sqft_above  yr_built  \\\n",
       "bedrooms           False      False  False       False     False   \n",
       "bathrooms          False      False  False       False     False   \n",
       "sqft_living        False      False  False       False     False   \n",
       "floors             False      False  False       False     False   \n",
       "waterfront         False      False  False       False     False   \n",
       "view               False      False  False       False     False   \n",
       "condition          False      False  False       False     False   \n",
       "grade              False      False  False       False     False   \n",
       "sqft_above         False      False  False       False     False   \n",
       "yr_built           False      False  False       False     False   \n",
       "yr_renovated       False      False  False       False     False   \n",
       "sqft_living15      False      False  False       False     False   \n",
       "sqft_lot15         False      False  False       False     False   \n",
       "bedroomssqft       False      False  False       False     False   \n",
       "sqftlivingtototal  False      False  False       False     False   \n",
       "bedroomstoliving   False      False  False       False     False   \n",
       "\n",
       "                   yr_renovated  sqft_living15  sqft_lot15  bedroomssqft  \\\n",
       "bedrooms                  False          False       False         False   \n",
       "bathrooms                 False          False       False         False   \n",
       "sqft_living               False          False       False         False   \n",
       "floors                    False          False       False         False   \n",
       "waterfront                False          False       False         False   \n",
       "view                      False          False       False         False   \n",
       "condition                 False          False       False         False   \n",
       "grade                     False          False       False         False   \n",
       "sqft_above                False          False       False         False   \n",
       "yr_built                  False          False       False         False   \n",
       "yr_renovated              False          False       False         False   \n",
       "sqft_living15             False          False       False         False   \n",
       "sqft_lot15                False          False       False         False   \n",
       "bedroomssqft              False          False       False         False   \n",
       "sqftlivingtototal         False          False       False         False   \n",
       "bedroomstoliving          False          False       False         False   \n",
       "\n",
       "                   sqftlivingtototal  bedroomstoliving  \n",
       "bedrooms                       False             False  \n",
       "bathrooms                      False             False  \n",
       "sqft_living                    False             False  \n",
       "floors                         False             False  \n",
       "waterfront                     False             False  \n",
       "view                           False             False  \n",
       "condition                      False             False  \n",
       "grade                          False             False  \n",
       "sqft_above                     False             False  \n",
       "yr_built                       False             False  \n",
       "yr_renovated                   False             False  \n",
       "sqft_living15                  False             False  \n",
       "sqft_lot15                     False             False  \n",
       "bedroomssqft                   False             False  \n",
       "sqftlivingtototal              False             False  \n",
       "bedroomstoliving               False             False  "
      ]
     },
     "execution_count": 69,
     "metadata": {},
     "output_type": "execute_result"
    }
   ],
   "source": [
    "modelX3_train.corr()>70"
   ]
  },
  {
   "cell_type": "markdown",
   "metadata": {},
   "source": [
    " wanted to change my variables to a normal distribution using the natural log method"
   ]
  },
  {
   "cell_type": "code",
   "execution_count": 70,
   "metadata": {},
   "outputs": [
    {
     "data": {
      "text/plain": [
       "<matplotlib.axes._subplots.AxesSubplot at 0x12b37c090>"
      ]
     },
     "execution_count": 70,
     "metadata": {},
     "output_type": "execute_result"
    },
    {
     "data": {
      "image/png": "[encoded data removed]",
      "text/plain": [
       "<Figure size 432x288 with 1 Axes>"
      ]
     },
     "metadata": {
      "needs_background": "light"
     },
     "output_type": "display_data"
    }
   ],
   "source": [
    "modelX3_train['floors'].hist()"
   ]
  },
  {
   "cell_type": "code",
   "execution_count": 71,
   "metadata": {},
   "outputs": [
    {
     "name": "stderr",
     "output_type": "stream",
     "text": [
      "/Users/sabirrahmanny/opt/anaconda3/lib/python3.7/site-packages/pandas/core/series.py:853: RuntimeWarning: invalid value encountered in log\n",
      "  result = getattr(ufunc, method)(*inputs, **kwargs)\n"
     ]
    }
   ],
   "source": [
    "modelX3_train['sqft_living']=np.log(modelX3_train['sqft_living'])\n",
    "modelX3_test['sqft_living']=np.log(modelX3_test['sqft_living'])"
   ]
  },
  {
   "cell_type": "code",
   "execution_count": 72,
   "metadata": {},
   "outputs": [],
   "source": [
    "modelX3_train['floors']=np.log(modelX3_train['floors'])\n",
    "modelX3_test['floors']=np.log(modelX3_test['floors'])"
   ]
  },
  {
   "cell_type": "code",
   "execution_count": 73,
   "metadata": {},
   "outputs": [
    {
     "data": {
      "text/plain": [
       "<matplotlib.axes._subplots.AxesSubplot at 0x12bfffd50>"
      ]
     },
     "execution_count": 73,
     "metadata": {},
     "output_type": "execute_result"
    },
    {
     "data": {
      "image/png": "[encoded data removed]",
      "text/plain": [
       "<Figure size 432x288 with 1 Axes>"
      ]
     },
     "metadata": {
      "needs_background": "light"
     },
     "output_type": "display_data"
    }
   ],
   "source": [
    "modelX3_train['floors'].hist()"
   ]
  },
  {
   "cell_type": "code",
   "execution_count": 74,
   "metadata": {},
   "outputs": [],
   "source": [
    "modelX3_train['floors']=modelX3_train[(modelX3_train['floors'] >-3 )]\n",
    "modelX3_test['floors']=modelX3_test[(modelX3_test['floors'] >-3 )]"
   ]
  },
  {
   "cell_type": "code",
   "execution_count": 75,
   "metadata": {},
   "outputs": [
    {
     "data": {
      "text/plain": [
       "17277"
      ]
     },
     "execution_count": 75,
     "metadata": {},
     "output_type": "execute_result"
    }
   ],
   "source": [
    "len(modelX3_train['floors'])"
   ]
  },
  {
   "cell_type": "code",
   "execution_count": 76,
   "metadata": {},
   "outputs": [
    {
     "data": {
      "text/plain": [
       "<matplotlib.axes._subplots.AxesSubplot at 0x12c072fd0>"
      ]
     },
     "execution_count": 76,
     "metadata": {},
     "output_type": "execute_result"
    },
    {
     "data": {
      "image/png": "[encoded data removed]",
      "text/plain": [
       "<Figure size 432x288 with 1 Axes>"
      ]
     },
     "metadata": {
      "needs_background": "light"
     },
     "output_type": "display_data"
    }
   ],
   "source": [
    "modelX3_train['floors'].hist()"
   ]
  },
  {
   "cell_type": "code",
   "execution_count": 77,
   "metadata": {},
   "outputs": [
    {
     "data": {
      "text/plain": [
       "<matplotlib.axes._subplots.AxesSubplot at 0x12cc7c950>"
      ]
     },
     "execution_count": 77,
     "metadata": {},
     "output_type": "execute_result"
    },
    {
     "data": {
      "image/png": "[encoded data removed]",
      "text/plain": [
       "<Figure size 432x288 with 1 Axes>"
      ]
     },
     "metadata": {
      "needs_background": "light"
     },
     "output_type": "display_data"
    }
   ],
   "source": [
    "modelX3_train['waterfront'].hist()"
   ]
  },
  {
   "cell_type": "code",
   "execution_count": 78,
   "metadata": {},
   "outputs": [],
   "source": [
    "modelX3_train['waterfront']=modelX3_train[(modelX3_train['floors'] <10 )]\n",
    "modelX3_test['waterfront']=modelX3_test[(modelX3_test['floors'] <10 )]"
   ]
  },
  {
   "cell_type": "code",
   "execution_count": 79,
   "metadata": {},
   "outputs": [
    {
     "data": {
      "text/plain": [
       "<matplotlib.axes._subplots.AxesSubplot at 0x12cef8d10>"
      ]
     },
     "execution_count": 79,
     "metadata": {},
     "output_type": "execute_result"
    },
    {
     "data": {
      "image/png": "[encoded data removed]",
      "text/plain": [
       "<Figure size 432x288 with 1 Axes>"
      ]
     },
     "metadata": {
      "needs_background": "light"
     },
     "output_type": "display_data"
    }
   ],
   "source": [
    "modelX3_train['waterfront'].hist()"
   ]
  },
  {
   "cell_type": "code",
   "execution_count": 80,
   "metadata": {},
   "outputs": [],
   "source": [
    "modelX3_train['waterfront']=modelX3_train[(modelX3_train['floors'] <5.8 )]\n",
    "modelX3_test['waterfront']=modelX3_test[(modelX3_test['floors'] <5.8 )]"
   ]
  },
  {
   "cell_type": "code",
   "execution_count": 81,
   "metadata": {},
   "outputs": [
    {
     "data": {
      "text/plain": [
       "<matplotlib.axes._subplots.AxesSubplot at 0x1329c7690>"
      ]
     },
     "execution_count": 81,
     "metadata": {},
     "output_type": "execute_result"
    },
    {
     "data": {
      "image/png": "[encoded data removed]",
      "text/plain": [
       "<Figure size 432x288 with 1 Axes>"
      ]
     },
     "metadata": {
      "needs_background": "light"
     },
     "output_type": "display_data"
    }
   ],
   "source": [
    "modelX3_train['waterfront'].hist()"
   ]
  },
  {
   "cell_type": "code",
   "execution_count": 82,
   "metadata": {},
   "outputs": [
    {
     "data": {
      "text/plain": [
       "<matplotlib.axes._subplots.AxesSubplot at 0x12ae9b750>"
      ]
     },
     "execution_count": 82,
     "metadata": {},
     "output_type": "execute_result"
    },
    {
     "data": {
      "image/png": "[encoded data removed]",
      "text/plain": [
       "<Figure size 432x288 with 1 Axes>"
      ]
     },
     "metadata": {
      "needs_background": "light"
     },
     "output_type": "display_data"
    }
   ],
   "source": [
    "modelX3_train['view'].hist()"
   ]
  },
  {
   "cell_type": "code",
   "execution_count": 83,
   "metadata": {},
   "outputs": [],
   "source": [
    "modelX3_train['view']=np.log(modelX3_train['view'])\n",
    "modelX3_test['view']=np.log(modelX3_test['view'])"
   ]
  },
  {
   "cell_type": "code",
   "execution_count": 84,
   "metadata": {},
   "outputs": [
    {
     "data": {
      "text/plain": [
       "<matplotlib.axes._subplots.AxesSubplot at 0x12ab75e10>"
      ]
     },
     "execution_count": 84,
     "metadata": {},
     "output_type": "execute_result"
    },
    {
     "data": {
      "image/png": "[encoded data removed]",
      "text/plain": [
       "<Figure size 432x288 with 1 Axes>"
      ]
     },
     "metadata": {
      "needs_background": "light"
     },
     "output_type": "display_data"
    }
   ],
   "source": [
    "modelX3_train['view'].hist()"
   ]
  },
  {
   "cell_type": "code",
   "execution_count": 85,
   "metadata": {},
   "outputs": [],
   "source": [
    "modelX3_train['view']=modelX3_train[(modelX3_train['view'] >.5 )]\n",
    "modelX3_test['view']=modelX3_test[(modelX3_test['view'] >.5 )]"
   ]
  },
  {
   "cell_type": "code",
   "execution_count": 86,
   "metadata": {},
   "outputs": [
    {
     "data": {
      "text/plain": [
       "<matplotlib.axes._subplots.AxesSubplot at 0x132c94b50>"
      ]
     },
     "execution_count": 86,
     "metadata": {},
     "output_type": "execute_result"
    },
    {
     "data": {
      "image/png": "[encoded data removed]",
      "text/plain": [
       "<Figure size 432x288 with 1 Axes>"
      ]
     },
     "metadata": {
      "needs_background": "light"
     },
     "output_type": "display_data"
    }
   ],
   "source": [
    "modelX3_train['view'].hist()"
   ]
  },
  {
   "cell_type": "code",
   "execution_count": 87,
   "metadata": {},
   "outputs": [
    {
     "data": {
      "text/plain": [
       "<matplotlib.axes._subplots.AxesSubplot at 0x132d91e90>"
      ]
     },
     "execution_count": 87,
     "metadata": {},
     "output_type": "execute_result"
    },
    {
     "data": {
      "image/png": "[encoded data removed]",
      "text/plain": [
       "<Figure size 432x288 with 1 Axes>"
      ]
     },
     "metadata": {
      "needs_background": "light"
     },
     "output_type": "display_data"
    }
   ],
   "source": [
    "modelX3_train['condition'].hist()"
   ]
  },
  {
   "cell_type": "code",
   "execution_count": 88,
   "metadata": {},
   "outputs": [],
   "source": [
    "modelX3_train['condition']=np.log(modelX3_train['condition'])\n",
    "modelX3_test['condition']=np.log(modelX3_test['condition'])"
   ]
  },
  {
   "cell_type": "code",
   "execution_count": 89,
   "metadata": {},
   "outputs": [
    {
     "data": {
      "text/plain": [
       "<matplotlib.axes._subplots.AxesSubplot at 0x135a85d10>"
      ]
     },
     "execution_count": 89,
     "metadata": {},
     "output_type": "execute_result"
    },
    {
     "data": {
      "image/png": "[encoded data removed]",
      "text/plain": [
       "<Figure size 432x288 with 1 Axes>"
      ]
     },
     "metadata": {
      "needs_background": "light"
     },
     "output_type": "display_data"
    }
   ],
   "source": [
    "modelX3_train['condition'].hist()"
   ]
  },
  {
   "cell_type": "code",
   "execution_count": 90,
   "metadata": {},
   "outputs": [],
   "source": [
    "modelX3_train['condition']=modelX3_train[(modelX3_train['condition'] >.7 )]\n",
    "modelX3_test['condition']=modelX3_test[(modelX3_test['condition'] >.7 )]"
   ]
  },
  {
   "cell_type": "code",
   "execution_count": 91,
   "metadata": {},
   "outputs": [
    {
     "data": {
      "text/plain": [
       "<matplotlib.axes._subplots.AxesSubplot at 0x135b4abd0>"
      ]
     },
     "execution_count": 91,
     "metadata": {},
     "output_type": "execute_result"
    },
    {
     "data": {
      "image/png": "[encoded data removed]",
      "text/plain": [
       "<Figure size 432x288 with 1 Axes>"
      ]
     },
     "metadata": {
      "needs_background": "light"
     },
     "output_type": "display_data"
    }
   ],
   "source": [
    "modelX3_train['condition'].hist()"
   ]
  },
  {
   "cell_type": "code",
   "execution_count": 92,
   "metadata": {},
   "outputs": [
    {
     "data": {
      "text/plain": [
       "<matplotlib.axes._subplots.AxesSubplot at 0x135c3d150>"
      ]
     },
     "execution_count": 92,
     "metadata": {},
     "output_type": "execute_result"
    },
    {
     "data": {
      "image/png": "[encoded data removed]",
      "text/plain": [
       "<Figure size 432x288 with 1 Axes>"
      ]
     },
     "metadata": {
      "needs_background": "light"
     },
     "output_type": "display_data"
    }
   ],
   "source": [
    "modelX3_train['sqft_above'].hist()"
   ]
  },
  {
   "cell_type": "code",
   "execution_count": 93,
   "metadata": {},
   "outputs": [],
   "source": [
    "modelX3_train['sqft_above']=np.log(modelX3_train['sqft_above'])\n",
    "modelX3_test['sqft_above']=np.log(modelX3_test['sqft_above'])"
   ]
  },
  {
   "cell_type": "code",
   "execution_count": 94,
   "metadata": {},
   "outputs": [
    {
     "data": {
      "text/plain": [
       "<matplotlib.axes._subplots.AxesSubplot at 0x135d1ea90>"
      ]
     },
     "execution_count": 94,
     "metadata": {},
     "output_type": "execute_result"
    },
    {
     "data": {
      "image/png": "[encoded data removed]",
      "text/plain": [
       "<Figure size 432x288 with 1 Axes>"
      ]
     },
     "metadata": {
      "needs_background": "light"
     },
     "output_type": "display_data"
    }
   ],
   "source": [
    "modelX3_train['sqft_above'].hist()"
   ]
  },
  {
   "cell_type": "code",
   "execution_count": 95,
   "metadata": {},
   "outputs": [
    {
     "data": {
      "text/plain": [
       "<matplotlib.axes._subplots.AxesSubplot at 0x135dc1e90>"
      ]
     },
     "execution_count": 95,
     "metadata": {},
     "output_type": "execute_result"
    },
    {
     "data": {
      "image/png": "[encoded data removed]",
      "text/plain": [
       "<Figure size 432x288 with 1 Axes>"
      ]
     },
     "metadata": {
      "needs_background": "light"
     },
     "output_type": "display_data"
    }
   ],
   "source": [
    "modelX3_train['yr_built'].hist()"
   ]
  },
  {
   "cell_type": "code",
   "execution_count": 96,
   "metadata": {},
   "outputs": [],
   "source": [
    "modelX3_train['yr_built']=np.log(modelX3_train['yr_built'])\n",
    "modelX3_test['yr_built']=np.log(modelX3_test['yr_built'])"
   ]
  },
  {
   "cell_type": "code",
   "execution_count": 97,
   "metadata": {},
   "outputs": [
    {
     "data": {
      "text/plain": [
       "<matplotlib.axes._subplots.AxesSubplot at 0x132688850>"
      ]
     },
     "execution_count": 97,
     "metadata": {},
     "output_type": "execute_result"
    },
    {
     "data": {
      "image/png": "[encoded data removed]",
      "text/plain": [
       "<Figure size 432x288 with 1 Axes>"
      ]
     },
     "metadata": {
      "needs_background": "light"
     },
     "output_type": "display_data"
    }
   ],
   "source": [
    "modelX3_train['yr_built'].hist()"
   ]
  },
  {
   "cell_type": "code",
   "execution_count": 98,
   "metadata": {},
   "outputs": [],
   "source": [
    "modelX3_train['yr_built']=modelX3_train[(modelX3_train['yr_built']>-5 )]\n",
    "modelX3_test['yr_built']=modelX3_test[(modelX3_test['yr_built']>-5 )]"
   ]
  },
  {
   "cell_type": "code",
   "execution_count": 99,
   "metadata": {},
   "outputs": [
    {
     "data": {
      "text/plain": [
       "<matplotlib.axes._subplots.AxesSubplot at 0x132767e50>"
      ]
     },
     "execution_count": 99,
     "metadata": {},
     "output_type": "execute_result"
    },
    {
     "data": {
      "image/png": "[encoded data removed]",
      "text/plain": [
       "<Figure size 432x288 with 1 Axes>"
      ]
     },
     "metadata": {
      "needs_background": "light"
     },
     "output_type": "display_data"
    }
   ],
   "source": [
    "modelX3_train['yr_built'].hist()"
   ]
  },
  {
   "cell_type": "code",
   "execution_count": 100,
   "metadata": {},
   "outputs": [
    {
     "data": {
      "text/plain": [
       "<matplotlib.axes._subplots.AxesSubplot at 0x132762050>"
      ]
     },
     "execution_count": 100,
     "metadata": {},
     "output_type": "execute_result"
    },
    {
     "data": {
      "image/png": "[encoded data removed]",
      "text/plain": [
       "<Figure size 432x288 with 1 Axes>"
      ]
     },
     "metadata": {
      "needs_background": "light"
     },
     "output_type": "display_data"
    }
   ],
   "source": [
    "modelX3_train['yr_renovated'].hist()"
   ]
  },
  {
   "cell_type": "code",
   "execution_count": 101,
   "metadata": {},
   "outputs": [],
   "source": [
    "modelX3_train['yr_renovated']=np.log(modelX3_train['yr_renovated'])\n",
    "modelX3_test['yr_renovated']=np.log(modelX3_test['yr_renovated'])"
   ]
  },
  {
   "cell_type": "code",
   "execution_count": 102,
   "metadata": {},
   "outputs": [
    {
     "data": {
      "text/plain": [
       "<matplotlib.axes._subplots.AxesSubplot at 0x130225bd0>"
      ]
     },
     "execution_count": 102,
     "metadata": {},
     "output_type": "execute_result"
    },
    {
     "data": {
      "image/png": "[encoded data removed]",
      "text/plain": [
       "<Figure size 432x288 with 1 Axes>"
      ]
     },
     "metadata": {
      "needs_background": "light"
     },
     "output_type": "display_data"
    }
   ],
   "source": [
    "modelX3_train['yr_renovated'].hist()"
   ]
  },
  {
   "cell_type": "code",
   "execution_count": 103,
   "metadata": {},
   "outputs": [],
   "source": [
    "modelX3_train['yr_renovated']=modelX3_train[(modelX3_train['yr_renovated']<1640 )]\n",
    "modelX3_test['yr_renovated']=modelX3_test[(modelX3_test['yr_renovated']<1640 )]"
   ]
  },
  {
   "cell_type": "code",
   "execution_count": 104,
   "metadata": {},
   "outputs": [
    {
     "data": {
      "text/plain": [
       "<matplotlib.axes._subplots.AxesSubplot at 0x136360350>"
      ]
     },
     "execution_count": 104,
     "metadata": {},
     "output_type": "execute_result"
    },
    {
     "data": {
      "image/png": "[encoded data removed]",
      "text/plain": [
       "<Figure size 432x288 with 1 Axes>"
      ]
     },
     "metadata": {
      "needs_background": "light"
     },
     "output_type": "display_data"
    }
   ],
   "source": [
    "modelX3_train['yr_renovated'].hist()"
   ]
  },
  {
   "cell_type": "code",
   "execution_count": 105,
   "metadata": {},
   "outputs": [],
   "source": [
    "modelX3_train['yr_renovated']=modelX3_train[(modelX3_train['yr_renovated']<8 )]\n",
    "modelX3_test['yr_renovated']=modelX3_test[(modelX3_test['yr_renovated']<8 )]"
   ]
  },
  {
   "cell_type": "code",
   "execution_count": 106,
   "metadata": {},
   "outputs": [
    {
     "data": {
      "text/plain": [
       "<matplotlib.axes._subplots.AxesSubplot at 0x136442e50>"
      ]
     },
     "execution_count": 106,
     "metadata": {},
     "output_type": "execute_result"
    },
    {
     "data": {
      "image/png": "[encoded data removed]",
      "text/plain": [
       "<Figure size 432x288 with 1 Axes>"
      ]
     },
     "metadata": {
      "needs_background": "light"
     },
     "output_type": "display_data"
    }
   ],
   "source": [
    "modelX3_train['yr_renovated'].hist()"
   ]
  },
  {
   "cell_type": "code",
   "execution_count": 107,
   "metadata": {},
   "outputs": [],
   "source": [
    "modelX3_train['yr_renovated']=modelX3_train[(modelX3_train['yr_renovated']<3 )]\n",
    "modelX3_test['yr_renovated']=modelX3_test[(modelX3_test['yr_renovated']<3 )]"
   ]
  },
  {
   "cell_type": "code",
   "execution_count": 108,
   "metadata": {},
   "outputs": [
    {
     "data": {
      "text/plain": [
       "<matplotlib.axes._subplots.AxesSubplot at 0x13022d850>"
      ]
     },
     "execution_count": 108,
     "metadata": {},
     "output_type": "execute_result"
    },
    {
     "data": {
      "image/png": "[encoded data removed]",
      "text/plain": [
       "<Figure size 432x288 with 1 Axes>"
      ]
     },
     "metadata": {
      "needs_background": "light"
     },
     "output_type": "display_data"
    }
   ],
   "source": [
    "modelX3_train['yr_renovated'].hist()"
   ]
  },
  {
   "cell_type": "code",
   "execution_count": 109,
   "metadata": {},
   "outputs": [
    {
     "data": {
      "text/plain": [
       "array([[<matplotlib.axes._subplots.AxesSubplot object at 0x10c53c510>,\n",
       "        <matplotlib.axes._subplots.AxesSubplot object at 0x13662bed0>,\n",
       "        <matplotlib.axes._subplots.AxesSubplot object at 0x1366bb910>,\n",
       "        <matplotlib.axes._subplots.AxesSubplot object at 0x1366fdf10>],\n",
       "       [<matplotlib.axes._subplots.AxesSubplot object at 0x136731950>,\n",
       "        <matplotlib.axes._subplots.AxesSubplot object at 0x136771f50>,\n",
       "        <matplotlib.axes._subplots.AxesSubplot object at 0x1367a5990>,\n",
       "        <matplotlib.axes._subplots.AxesSubplot object at 0x1367e1f90>],\n",
       "       [<matplotlib.axes._subplots.AxesSubplot object at 0x1367eb0d0>,\n",
       "        <matplotlib.axes._subplots.AxesSubplot object at 0x13681c950>,\n",
       "        <matplotlib.axes._subplots.AxesSubplot object at 0x13687fa10>,\n",
       "        <matplotlib.axes._subplots.AxesSubplot object at 0x1368be250>],\n",
       "       [<matplotlib.axes._subplots.AxesSubplot object at 0x1368eea50>,\n",
       "        <matplotlib.axes._subplots.AxesSubplot object at 0x13692b290>,\n",
       "        <matplotlib.axes._subplots.AxesSubplot object at 0x13695ea90>,\n",
       "        <matplotlib.axes._subplots.AxesSubplot object at 0x13699f2d0>]],\n",
       "      dtype=object)"
      ]
     },
     "execution_count": 109,
     "metadata": {},
     "output_type": "execute_result"
    },
    {
     "data": {
      "image/png": "[encoded data removed]",
      "text/plain": [
       "<Figure size 432x288 with 16 Axes>"
      ]
     },
     "metadata": {
      "needs_background": "light"
     },
     "output_type": "display_data"
    }
   ],
   "source": [
    "modelX3_train.hist()"
   ]
  },
  {
   "cell_type": "code",
   "execution_count": 110,
   "metadata": {},
   "outputs": [],
   "source": [
    "modelX3_train['sqft_lot15']=np.log(modelX3_train['sqft_lot15'])\n",
    "modelX3_test['sqft_lot15']=np.log(modelX3_test['sqft_lot15'])"
   ]
  },
  {
   "cell_type": "code",
   "execution_count": 111,
   "metadata": {},
   "outputs": [
    {
     "data": {
      "text/plain": [
       "<matplotlib.axes._subplots.AxesSubplot at 0x136a4e190>"
      ]
     },
     "execution_count": 111,
     "metadata": {},
     "output_type": "execute_result"
    },
    {
     "data": {
      "image/png": "[encoded data removed]",
      "text/plain": [
       "<Figure size 432x288 with 1 Axes>"
      ]
     },
     "metadata": {
      "needs_background": "light"
     },
     "output_type": "display_data"
    }
   ],
   "source": [
    "modelX3_train['sqft_lot15'].hist()"
   ]
  },
  {
   "cell_type": "code",
   "execution_count": 112,
   "metadata": {},
   "outputs": [],
   "source": [
    "modelX3_train['sqftlivingtototal']=np.log(modelX3_train['sqftlivingtototal'])\n",
    "modelX3_test['sqftlivingtototal']=np.log(modelX3_test['sqftlivingtototal'])"
   ]
  },
  {
   "cell_type": "code",
   "execution_count": 113,
   "metadata": {},
   "outputs": [
    {
     "data": {
      "text/plain": [
       "<matplotlib.axes._subplots.AxesSubplot at 0x136d98fd0>"
      ]
     },
     "execution_count": 113,
     "metadata": {},
     "output_type": "execute_result"
    },
    {
     "data": {
      "image/png": "[encoded data removed]",
      "text/plain": [
       "<Figure size 432x288 with 1 Axes>"
      ]
     },
     "metadata": {
      "needs_background": "light"
     },
     "output_type": "display_data"
    }
   ],
   "source": [
    "modelX3_train['sqftlivingtototal'].hist()"
   ]
  },
  {
   "cell_type": "code",
   "execution_count": 114,
   "metadata": {},
   "outputs": [
    {
     "data": {
      "text/plain": [
       "bedrooms                 0\n",
       "bathrooms                0\n",
       "sqft_living           9924\n",
       "floors               10064\n",
       "waterfront           10070\n",
       "view                 15866\n",
       "condition            15902\n",
       "grade                    0\n",
       "sqft_above           10558\n",
       "yr_built              8261\n",
       "yr_renovated         16689\n",
       "sqft_living15            0\n",
       "sqft_lot15           14626\n",
       "bedroomssqft             0\n",
       "sqftlivingtototal    11174\n",
       "bedroomstoliving         0\n",
       "dtype: int64"
      ]
     },
     "execution_count": 114,
     "metadata": {},
     "output_type": "execute_result"
    }
   ],
   "source": [
    "modelX3_train.isna().sum()"
   ]
  },
  {
   "cell_type": "markdown",
   "metadata": {},
   "source": [
    "Filled the null values with the mean"
   ]
  },
  {
   "cell_type": "code",
   "execution_count": 115,
   "metadata": {},
   "outputs": [],
   "source": [
    "modelX3_train['sqft_living'].fillna((modelX3_train['sqft_living'].mean()), inplace=True)\n",
    "modelX3_train['floors'].fillna((modelX3_train['floors'].mean()), inplace=True)\n",
    "modelX3_train['waterfront'].fillna((modelX3_train['waterfront'].mean()), inplace=True)\n",
    "modelX3_train['view'].fillna((modelX3_train['view'].mean()), inplace=True)\n",
    "modelX3_train['condition'].fillna((modelX3_train['condition'].mean()), inplace=True)\n",
    "modelX3_train['sqft_above'].fillna((modelX3_train['sqft_above'].mean()), inplace=True)\n",
    "modelX3_train['yr_built'].fillna((modelX3_train['yr_built'].mean()), inplace=True)\n",
    "modelX3_train['yr_renovated'].fillna((modelX3_train['yr_renovated'].mean()), inplace=True)\n",
    "modelX3_train['sqft_lot15'].fillna((modelX3_train['sqft_lot15'].mean()), inplace=True)\n",
    "modelX3_train['sqftlivingtototal'].fillna((modelX3_train['sqftlivingtototal'].mean()), inplace=True)"
   ]
  },
  {
   "cell_type": "code",
   "execution_count": null,
   "metadata": {},
   "outputs": [],
   "source": []
  },
  {
   "cell_type": "code",
   "execution_count": 116,
   "metadata": {},
   "outputs": [
    {
     "name": "stdout",
     "output_type": "stream",
     "text": [
      "0.5150077200832754\n"
     ]
    }
   ],
   "source": [
    "lr.fit(modelX3_train, modely3_train)\n",
    "print(lr.score(modelX3_train, modely3_train))"
   ]
  },
  {
   "cell_type": "code",
   "execution_count": 117,
   "metadata": {},
   "outputs": [],
   "source": [
    "Y = 'price'\n",
    "pred_sum_3 = '+'.join(modelX3_train.columns)\n",
    "formula_3 = Y + '~' + pred_sum_3\n",
    "Training_3=modelX3_train.join(modely3_train)"
   ]
  },
  {
   "cell_type": "code",
   "execution_count": 118,
   "metadata": {},
   "outputs": [
    {
     "data": {
      "text/html": [
       "<table class=\"simpletable\">\n",
       "<caption>OLS Regression Results</caption>\n",
       "<tr>\n",
       "  <th>Dep. Variable:</th>          <td>price</td>      <th>  R-squared:         </th>  <td>   0.515</td>  \n",
       "</tr>\n",
       "<tr>\n",
       "  <th>Model:</th>                   <td>OLS</td>       <th>  Adj. R-squared:    </th>  <td>   0.515</td>  \n",
       "</tr>\n",
       "<tr>\n",
       "  <th>Method:</th>             <td>Least Squares</td>  <th>  F-statistic:       </th>  <td>   1222.</td>  \n",
       "</tr>\n",
       "<tr>\n",
       "  <th>Date:</th>             <td>Mon, 09 Mar 2020</td> <th>  Prob (F-statistic):</th>   <td>  0.00</td>   \n",
       "</tr>\n",
       "<tr>\n",
       "  <th>Time:</th>                 <td>09:23:16</td>     <th>  Log-Likelihood:    </th> <td>-2.3973e+05</td>\n",
       "</tr>\n",
       "<tr>\n",
       "  <th>No. Observations:</th>      <td> 17277</td>      <th>  AIC:               </th>  <td>4.795e+05</td> \n",
       "</tr>\n",
       "<tr>\n",
       "  <th>Df Residuals:</th>          <td> 17261</td>      <th>  BIC:               </th>  <td>4.796e+05</td> \n",
       "</tr>\n",
       "<tr>\n",
       "  <th>Df Model:</th>              <td>    15</td>      <th>                     </th>      <td> </td>     \n",
       "</tr>\n",
       "<tr>\n",
       "  <th>Covariance Type:</th>      <td>nonrobust</td>    <th>                     </th>      <td> </td>     \n",
       "</tr>\n",
       "</table>\n",
       "<table class=\"simpletable\">\n",
       "<tr>\n",
       "          <td></td>             <th>coef</th>     <th>std err</th>      <th>t</th>      <th>P>|t|</th>  <th>[0.025</th>    <th>0.975]</th>  \n",
       "</tr>\n",
       "<tr>\n",
       "  <th>Intercept</th>         <td> 5.318e+05</td> <td> 4897.532</td> <td>  108.593</td> <td> 0.000</td> <td> 5.22e+05</td> <td> 5.41e+05</td>\n",
       "</tr>\n",
       "<tr>\n",
       "  <th>bedrooms</th>          <td>-1.058e+04</td> <td> 3621.497</td> <td>   -2.920</td> <td> 0.004</td> <td>-1.77e+04</td> <td>-3477.636</td>\n",
       "</tr>\n",
       "<tr>\n",
       "  <th>bathrooms</th>         <td> 2.807e+04</td> <td> 3223.008</td> <td>    8.709</td> <td> 0.000</td> <td> 2.18e+04</td> <td> 3.44e+04</td>\n",
       "</tr>\n",
       "<tr>\n",
       "  <th>sqft_living</th>       <td> 5.916e+04</td> <td> 2832.571</td> <td>   20.886</td> <td> 0.000</td> <td> 5.36e+04</td> <td> 6.47e+04</td>\n",
       "</tr>\n",
       "<tr>\n",
       "  <th>floors</th>            <td> 5.449e+04</td> <td> 1.63e+04</td> <td>    3.342</td> <td> 0.001</td> <td> 2.25e+04</td> <td> 8.64e+04</td>\n",
       "</tr>\n",
       "<tr>\n",
       "  <th>waterfront</th>        <td> 4989.5751</td> <td> 1.69e+04</td> <td>    0.295</td> <td> 0.768</td> <td>-2.81e+04</td> <td> 3.81e+04</td>\n",
       "</tr>\n",
       "<tr>\n",
       "  <th>view</th>              <td> 4.445e+04</td> <td> 6626.207</td> <td>    6.709</td> <td> 0.000</td> <td> 3.15e+04</td> <td> 5.74e+04</td>\n",
       "</tr>\n",
       "<tr>\n",
       "  <th>condition</th>         <td> 5.409e+04</td> <td> 7307.194</td> <td>    7.402</td> <td> 0.000</td> <td> 3.98e+04</td> <td> 6.84e+04</td>\n",
       "</tr>\n",
       "<tr>\n",
       "  <th>grade</th>             <td> 1.463e+05</td> <td> 3325.473</td> <td>   43.991</td> <td> 0.000</td> <td>  1.4e+05</td> <td> 1.53e+05</td>\n",
       "</tr>\n",
       "<tr>\n",
       "  <th>sqft_above</th>        <td> 1.422e+04</td> <td> 3018.626</td> <td>    4.712</td> <td> 0.000</td> <td> 8307.843</td> <td> 2.01e+04</td>\n",
       "</tr>\n",
       "<tr>\n",
       "  <th>yr_built</th>          <td>-9370.8238</td> <td> 5100.349</td> <td>   -1.837</td> <td> 0.066</td> <td>-1.94e+04</td> <td>  626.378</td>\n",
       "</tr>\n",
       "<tr>\n",
       "  <th>yr_renovated</th>      <td> 7.313e+04</td> <td> 1.04e+04</td> <td>    7.050</td> <td> 0.000</td> <td> 5.28e+04</td> <td> 9.35e+04</td>\n",
       "</tr>\n",
       "<tr>\n",
       "  <th>sqft_living15</th>     <td> 4.994e+04</td> <td> 3169.343</td> <td>   15.756</td> <td> 0.000</td> <td> 4.37e+04</td> <td> 5.61e+04</td>\n",
       "</tr>\n",
       "<tr>\n",
       "  <th>sqft_lot15</th>        <td>-2.129e+04</td> <td> 2853.294</td> <td>   -7.460</td> <td> 0.000</td> <td>-2.69e+04</td> <td>-1.57e+04</td>\n",
       "</tr>\n",
       "<tr>\n",
       "  <th>bedroomssqft</th>      <td>-1.722e+04</td> <td> 1535.143</td> <td>  -11.220</td> <td> 0.000</td> <td>-2.02e+04</td> <td>-1.42e+04</td>\n",
       "</tr>\n",
       "<tr>\n",
       "  <th>sqftlivingtototal</th> <td> 3256.6963</td> <td> 2561.406</td> <td>    1.271</td> <td> 0.204</td> <td>-1763.920</td> <td> 8277.313</td>\n",
       "</tr>\n",
       "<tr>\n",
       "  <th>bedroomstoliving</th>  <td>-1.722e+04</td> <td> 1535.143</td> <td>  -11.220</td> <td> 0.000</td> <td>-2.02e+04</td> <td>-1.42e+04</td>\n",
       "</tr>\n",
       "</table>\n",
       "<table class=\"simpletable\">\n",
       "<tr>\n",
       "  <th>Omnibus:</th>       <td>14355.902</td> <th>  Durbin-Watson:     </th>  <td>   2.001</td>  \n",
       "</tr>\n",
       "<tr>\n",
       "  <th>Prob(Omnibus):</th>  <td> 0.000</td>   <th>  Jarque-Bera (JB):  </th> <td>1055769.000</td>\n",
       "</tr>\n",
       "<tr>\n",
       "  <th>Skew:</th>           <td> 3.540</td>   <th>  Prob(JB):          </th>  <td>    0.00</td>  \n",
       "</tr>\n",
       "<tr>\n",
       "  <th>Kurtosis:</th>       <td>40.636</td>   <th>  Cond. No.          </th>  <td>6.85e+15</td>  \n",
       "</tr>\n",
       "</table><br/><br/>Warnings:<br/>[1] Standard Errors assume that the covariance matrix of the errors is correctly specified.<br/>[2] The smallest eigenvalue is 1.49e-27. This might indicate that there are<br/>strong multicollinearity problems or that the design matrix is singular."
      ],
      "text/plain": [
       "<class 'statsmodels.iolib.summary.Summary'>\n",
       "\"\"\"\n",
       "                            OLS Regression Results                            \n",
       "==============================================================================\n",
       "Dep. Variable:                  price   R-squared:                       0.515\n",
       "Model:                            OLS   Adj. R-squared:                  0.515\n",
       "Method:                 Least Squares   F-statistic:                     1222.\n",
       "Date:                Mon, 09 Mar 2020   Prob (F-statistic):               0.00\n",
       "Time:                        09:23:16   Log-Likelihood:            -2.3973e+05\n",
       "No. Observations:               17277   AIC:                         4.795e+05\n",
       "Df Residuals:                   17261   BIC:                         4.796e+05\n",
       "Df Model:                          15                                         \n",
       "Covariance Type:            nonrobust                                         \n",
       "=====================================================================================\n",
       "                        coef    std err          t      P>|t|      [0.025      0.975]\n",
       "-------------------------------------------------------------------------------------\n",
       "Intercept          5.318e+05   4897.532    108.593      0.000    5.22e+05    5.41e+05\n",
       "bedrooms          -1.058e+04   3621.497     -2.920      0.004   -1.77e+04   -3477.636\n",
       "bathrooms          2.807e+04   3223.008      8.709      0.000    2.18e+04    3.44e+04\n",
       "sqft_living        5.916e+04   2832.571     20.886      0.000    5.36e+04    6.47e+04\n",
       "floors             5.449e+04   1.63e+04      3.342      0.001    2.25e+04    8.64e+04\n",
       "waterfront         4989.5751   1.69e+04      0.295      0.768   -2.81e+04    3.81e+04\n",
       "view               4.445e+04   6626.207      6.709      0.000    3.15e+04    5.74e+04\n",
       "condition          5.409e+04   7307.194      7.402      0.000    3.98e+04    6.84e+04\n",
       "grade              1.463e+05   3325.473     43.991      0.000     1.4e+05    1.53e+05\n",
       "sqft_above         1.422e+04   3018.626      4.712      0.000    8307.843    2.01e+04\n",
       "yr_built          -9370.8238   5100.349     -1.837      0.066   -1.94e+04     626.378\n",
       "yr_renovated       7.313e+04   1.04e+04      7.050      0.000    5.28e+04    9.35e+04\n",
       "sqft_living15      4.994e+04   3169.343     15.756      0.000    4.37e+04    5.61e+04\n",
       "sqft_lot15        -2.129e+04   2853.294     -7.460      0.000   -2.69e+04   -1.57e+04\n",
       "bedroomssqft      -1.722e+04   1535.143    -11.220      0.000   -2.02e+04   -1.42e+04\n",
       "sqftlivingtototal  3256.6963   2561.406      1.271      0.204   -1763.920    8277.313\n",
       "bedroomstoliving  -1.722e+04   1535.143    -11.220      0.000   -2.02e+04   -1.42e+04\n",
       "==============================================================================\n",
       "Omnibus:                    14355.902   Durbin-Watson:                   2.001\n",
       "Prob(Omnibus):                  0.000   Jarque-Bera (JB):          1055769.000\n",
       "Skew:                           3.540   Prob(JB):                         0.00\n",
       "Kurtosis:                      40.636   Cond. No.                     6.85e+15\n",
       "==============================================================================\n",
       "\n",
       "Warnings:\n",
       "[1] Standard Errors assume that the covariance matrix of the errors is correctly specified.\n",
       "[2] The smallest eigenvalue is 1.49e-27. This might indicate that there are\n",
       "strong multicollinearity problems or that the design matrix is singular.\n",
       "\"\"\""
      ]
     },
     "execution_count": 118,
     "metadata": {},
     "output_type": "execute_result"
    }
   ],
   "source": [
    "mod = smf.ols(formula=formula_3, data = Training_3)\n",
    "res = mod.fit()\n",
    "res.summary()"
   ]
  },
  {
   "cell_type": "code",
   "execution_count": null,
   "metadata": {},
   "outputs": [],
   "source": []
  }
 ],
 "metadata": {
  "kernelspec": {
   "display_name": "Python 3",
   "language": "python",
   "name": "python3"
  },
  "language_info": {
   "codemirror_mode": {
    "name": "ipython",
    "version": 3
   },
   "file_extension": ".py",
   "mimetype": "text/x-python",
   "name": "python",
   "nbconvert_exporter": "python",
   "pygments_lexer": "ipython3",
   "version": "3.7.4"
  }
 },
 "nbformat": 4,
 "nbformat_minor": 4
}
